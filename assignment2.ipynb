{
 "cells": [
  {
   "cell_type": "code",
   "execution_count": 5,
   "id": "af7e99bb-6c5b-4a18-8162-a5797cab6953",
   "metadata": {},
   "outputs": [
    {
     "name": "stdin",
     "output_type": "stream",
     "text": [
      "Enter your percentage :-  95\n"
     ]
    },
    {
     "name": "stdout",
     "output_type": "stream",
     "text": [
      "Grade A\n"
     ]
    }
   ],
   "source": [
    "#ans1\n",
    "per=eval(input(\"Enter your percentage :- \"))\n",
    "if per > 90:\n",
    "    print(\"Grade A\")\n",
    "elif per >=80 and per<= 90 :\n",
    "    print(\"Grade B\")\n",
    "elif per>=60 and per <=80 :\n",
    "    print(\"Grade C\")\n",
    "else :\n",
    "    print(\"Grade D\")"
   ]
  },
  {
   "cell_type": "code",
   "execution_count": 8,
   "id": "1f50023e-4e62-4ccd-8f02-1e27497d3da8",
   "metadata": {},
   "outputs": [
    {
     "name": "stdin",
     "output_type": "stream",
     "text": [
      "Enter the Cost Price :-  200000\n"
     ]
    },
    {
     "name": "stdout",
     "output_type": "stream",
     "text": [
      "15% Tax \n"
     ]
    }
   ],
   "source": [
    "#ans2\n",
    "cp=int(input(\"Enter the Cost Price :- \"))\n",
    "if cp>100000:\n",
    "    print(\"15% Tax \")\n",
    "elif cp> 50000 and cp <= 100000:\n",
    "    print(\"10% Tax\")\n",
    "else :\n",
    "    print(\"5% Tax\")"
   ]
  },
  {
   "cell_type": "code",
   "execution_count": 9,
   "id": "96fada6b-863d-4a22-a958-a4477c74d81d",
   "metadata": {},
   "outputs": [],
   "source": [
    "#ans3\n",
    "city = {\"Delhi\": \"Red Fort\", \"Agra\":\"Taj Mahal\",\"Jaipur\":\"Jal Mahal\"}"
   ]
  },
  {
   "cell_type": "code",
   "execution_count": 12,
   "id": "8c19d45f-b0a2-49c5-8af0-0260cf09e1e2",
   "metadata": {},
   "outputs": [
    {
     "data": {
      "text/plain": [
       "'Taj Mahal'"
      ]
     },
     "execution_count": 12,
     "metadata": {},
     "output_type": "execute_result"
    }
   ],
   "source": [
    "city[\"Agra\"]"
   ]
  },
  {
   "cell_type": "code",
   "execution_count": 18,
   "id": "680dfb2f-592f-4e70-9f8a-e7ce3a8f7eb2",
   "metadata": {},
   "outputs": [
    {
     "name": "stdin",
     "output_type": "stream",
     "text": [
      "Enter your city name:  delhi\n"
     ]
    },
    {
     "name": "stdout",
     "output_type": "stream",
     "text": [
      "Delhi Monuments\n",
      "Red Fort\n"
     ]
    }
   ],
   "source": [
    "#ans3\n",
    "city = input(\"Enter your city name: \")\n",
    "if city.lower() == \"delhi\":\n",
    "    monuments=[\"Red Fort\"]\n",
    "    print(\"Delhi Monuments\")\n",
    "    for monument in monuments:\n",
    "        print(monument)\n",
    "elif city.lower() == \"agra\":\n",
    "    monuments=[\"Taj Mahal\"]\n",
    "    print(\"Agra Monuments\")\n",
    "    for monument in monuments:\n",
    "        print(monument)\n",
    "elif city.lower() == \"jaipur\":\n",
    "    monuments = [\"Jal Mahal\"]\n",
    "    print(\"Jaipur Monuments\")\n",
    "    for monument in monuments:\n",
    "        print(monument)\n",
    "else:\n",
    "    print(\"Sorry, information about monuments in the entered city is not available.\")"
   ]
  },
  {
   "cell_type": "code",
   "execution_count": 40,
   "id": "f574034c-2354-42df-8457-c47aae889131",
   "metadata": {},
   "outputs": [
    {
     "name": "stdin",
     "output_type": "stream",
     "text": [
      "Enter a number:-  99\n"
     ]
    },
    {
     "name": "stdout",
     "output_type": "stream",
     "text": [
      "The number can be divided by 3 {ans} times\n",
      "The number can be divided by 3 {ans} times\n",
      "The number can be divided by 3 {ans} times\n"
     ]
    }
   ],
   "source": [
    "#ans4 = Sir i am trying again and again but this not give ans counting value\n",
    "num = int(input(\"Enter a number:- \"))\n",
    "ans = 0 \n",
    "while num > 10:\n",
    "    num = num / 3\n",
    "    ans += 1\n",
    "   \n",
    "    print(\"The number can be divided by 3 {ans} times\")"
   ]
  },
  {
   "cell_type": "markdown",
   "id": "4569c3f6-637d-4f8b-aa34-f995576156ce",
   "metadata": {},
   "source": [
    " #ans 5 "
   ]
  },
  {
   "cell_type": "markdown",
   "id": "38cc256c-b0a5-4fd4-85ef-31a72d08af73",
   "metadata": {},
   "source": [
    "The whwile loop is used to repeatedly execute a block code as long as a given condtion is True. the code inside the loop will keep executing until the condition becomec False "
   ]
  },
  {
   "cell_type": "code",
   "execution_count": 41,
   "id": "751a6ed0-9942-4248-89eb-6b3e2d131a26",
   "metadata": {},
   "outputs": [
    {
     "name": "stdin",
     "output_type": "stream",
     "text": [
      "Enter a number:-  8\n"
     ]
    },
    {
     "data": {
      "text/plain": [
       "40320"
      ]
     },
     "execution_count": 41,
     "metadata": {},
     "output_type": "execute_result"
    }
   ],
   "source": [
    "#example\n",
    "number = eval(input(\"Enter a number:- \"))\n",
    "factorial = 1\n",
    "while number > 0:\n",
    "    factorial = factorial*number\n",
    "    number = number-1\n",
    "factorial    "
   ]
  },
  {
   "cell_type": "code",
   "execution_count": 3,
   "id": "d6db43cf-a0c8-4797-965c-109a1abbe49a",
   "metadata": {},
   "outputs": [
    {
     "name": "stdout",
     "output_type": "stream",
     "text": [
      "First,\n",
      "First,First,\n",
      "First,First,First,\n",
      "First,First,First,First,\n",
      "First,First,First,First,First,\n"
     ]
    }
   ],
   "source": [
    "#ans 6\n",
    "i = 1\n",
    "while i <=5:\n",
    "    j =1\n",
    "    while j <=i:\n",
    "        print(\"First,\", end=\"\")\n",
    "        j = j+1\n",
    "    print(\"\")\n",
    "    i = i+1"
   ]
  },
  {
   "cell_type": "code",
   "execution_count": 4,
   "id": "f9670936-26b0-40dd-b5fb-4102f8dc1eec",
   "metadata": {},
   "outputs": [
    {
     "name": "stdout",
     "output_type": "stream",
     "text": [
      "second,second,second,second,second,\n",
      "second,second,second,second,\n",
      "second,second,second,\n",
      "second,second,\n",
      "second,\n"
     ]
    }
   ],
   "source": [
    "#second\n",
    "i = 5\n",
    "while i >=1:\n",
    "    j = 1\n",
    "    while j <= i :\n",
    "        print(\"second,\", end=\"\")\n",
    "        j = j +1\n",
    "    print(\"\")\n",
    "    i = i -1"
   ]
  },
  {
   "cell_type": "code",
   "execution_count": 6,
   "id": "e8c4242d-7265-4d63-b02b-e3bd0bd94915",
   "metadata": {},
   "outputs": [
    {
     "name": "stdout",
     "output_type": "stream",
     "text": [
      "    third,\n",
      "   third,third,\n",
      "  third,third,third,\n",
      " third,third,third,third,\n",
      "third,third,third,third,third,\n"
     ]
    }
   ],
   "source": [
    "#third\n",
    "i = 1\n",
    "while i <= 5:\n",
    "    j = 1\n",
    "    while j <=5:\n",
    "        if j >=6 - i:\n",
    "            print(\"third,\", end=\"\")\n",
    "        else:\n",
    "            print(\" \", end=\"\")\n",
    "        j = j+1\n",
    "    print(\"\")\n",
    "    i= i+1"
   ]
  },
  {
   "cell_type": "code",
   "execution_count": 7,
   "id": "52f201ae-1acf-4c48-830b-4c34e44e1204",
   "metadata": {},
   "outputs": [
    {
     "name": "stdout",
     "output_type": "stream",
     "text": [
      "10\n",
      "9\n",
      "8\n",
      "7\n",
      "6\n",
      "5\n",
      "4\n",
      "3\n",
      "2\n",
      "1\n"
     ]
    }
   ],
   "source": [
    "#ans 7\n",
    "i = 10\n",
    "while i >= 1:\n",
    "    print(i)\n",
    "    i=i-1"
   ]
  },
  {
   "cell_type": "code",
   "execution_count": 8,
   "id": "7ec6ef61-c5b2-4736-b8e2-445c7d677047",
   "metadata": {},
   "outputs": [
    {
     "name": "stdout",
     "output_type": "stream",
     "text": [
      "1\n",
      "2\n",
      "3\n",
      "4\n",
      "5\n",
      "6\n",
      "7\n",
      "8\n",
      "9\n",
      "10\n"
     ]
    }
   ],
   "source": [
    "#ans 8\n",
    "i = 1\n",
    "while i<=10:\n",
    "    print(i)\n",
    "    i = i+1"
   ]
  },
  {
   "cell_type": "code",
   "execution_count": null,
   "id": "5a0be82c-a04e-41c5-ab02-1c76e445c808",
   "metadata": {},
   "outputs": [],
   "source": []
  }
 ],
 "metadata": {
  "kernelspec": {
   "display_name": "Python 3 (ipykernel)",
   "language": "python",
   "name": "python3"
  },
  "language_info": {
   "codemirror_mode": {
    "name": "ipython",
    "version": 3
   },
   "file_extension": ".py",
   "mimetype": "text/x-python",
   "name": "python",
   "nbconvert_exporter": "python",
   "pygments_lexer": "ipython3",
   "version": "3.10.8"
  }
 },
 "nbformat": 4,
 "nbformat_minor": 5
}
